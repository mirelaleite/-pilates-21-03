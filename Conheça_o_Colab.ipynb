{
  "cells": [
    {
      "cell_type": "markdown",
      "metadata": {
        "id": "view-in-github",
        "colab_type": "text"
      },
      "source": [
        "<a href=\"https://colab.research.google.com/github/mirelaleite/-pilates-21-03/blob/main/Conhe%C3%A7a_o_Colab.ipynb\" target=\"_parent\"><img src=\"https://colab.research.google.com/assets/colab-badge.svg\" alt=\"Open In Colab\"/></a>"
      ]
    },
    {
      "cell_type": "markdown",
      "source": [
        "## Aula 1"
      ],
      "metadata": {
        "id": "ovcla6ry2P0s"
      }
    },
    {
      "cell_type": "code",
      "source": [
        "print(\"I competição de programação dá Start\")\n",
        "ano = \"II\"\n",
        "print(ano, \"competição de programação da Start\")\n",
        "print(f\"{ano} competição de programação da Start\")"
      ],
      "metadata": {
        "colab": {
          "base_uri": "https://localhost:8080/"
        },
        "id": "bP1k0cL22bde",
        "outputId": "9e27662c-faf5-4142-c4bf-a7c5f4eedfe2"
      },
      "execution_count": 38,
      "outputs": [
        {
          "output_type": "stream",
          "name": "stdout",
          "text": [
            "I competição de programação dá Start\n",
            "II competição de programação da Start\n",
            "II competição de programação da Start\n"
          ]
        }
      ]
    },
    {
      "cell_type": "markdown",
      "source": [
        "## Desafio 1"
      ],
      "metadata": {
        "id": "y-gFZSjq2qY_"
      }
    },
    {
      "cell_type": "code",
      "source": [
        "# Definindo as variáveis\n",
        "nome_evento = \"Competição da Mi\"\n",
        "numero_edicao = 3  # Você pode mudar esse número conforme o evento\n",
        "\n",
        "# Método 1: Usando concatenação\n",
        "print(\"Bem-vindo à \" + nome_evento + \" - Edição \" + str(numero_edicao))\n",
        "\n",
        "# Método 2: Usando f-string\n",
        "print(f\"Bem-vindo à {nome_evento} - Edição {numero_edicao}\")\n"
      ],
      "metadata": {
        "colab": {
          "base_uri": "https://localhost:8080/"
        },
        "id": "sV2mSmXw2_ap",
        "outputId": "b9f5edae-22c9-4785-c0dc-b8ad0f5bb667"
      },
      "execution_count": 39,
      "outputs": [
        {
          "output_type": "stream",
          "name": "stdout",
          "text": [
            "Bem-vindo à Competição da Mi - Edição 3\n",
            "Bem-vindo à Competição da Mi - Edição 3\n"
          ]
        }
      ]
    },
    {
      "cell_type": "markdown",
      "source": [
        "## Aula 2"
      ],
      "metadata": {
        "id": "lR7RbT0t3Ve-"
      }
    },
    {
      "cell_type": "code",
      "source": [
        "livro_ficcao = 8\n",
        "livro_n_ficcao = 10\n",
        "livro_infantil = 6\n",
        "pontos_rodrigo = livro_ficcao + livro_n_ficcao + livro_infantil\n",
        "print(f\"Os pontos totais do Rodrigo são {pontos_rodrigo}\")"
      ],
      "metadata": {
        "colab": {
          "base_uri": "https://localhost:8080/"
        },
        "id": "q54lrM5X3ZbA",
        "outputId": "f1b15481-5435-4183-a67f-13f71d433ffa"
      },
      "execution_count": 4,
      "outputs": [
        {
          "output_type": "stream",
          "name": "stdout",
          "text": [
            "Os pontos totais do Rodrigo são 24\n"
          ]
        }
      ]
    },
    {
      "cell_type": "markdown",
      "source": [
        "## Desafio 2"
      ],
      "metadata": {
        "id": "CoP1QlNs3mHO"
      }
    },
    {
      "cell_type": "code",
      "source": [
        "# Pontos por fase\n",
        "pontos_fase_facil = 10\n",
        "pontos_fase_media = 25\n",
        "pontos_fase_dificil = 50\n",
        "pontos_fase_lendaria = 100\n",
        "\n",
        "# Quantidade de fases jogadas\n",
        "num_fases_facil = 3\n",
        "num_fases_media = 2\n",
        "num_fases_dificil = 1\n",
        "num_fases_lendaria = 1\n",
        "\n",
        "# Calcular o total de pontos\n",
        "total_pontos = (pontos_fase_facil * num_fases_facil) + (pontos_fase_media * num_fases_media) + (pontos_fase_dificil * num_fases_dificil) + (pontos_fase_lendaria * num_fases_lendaria)\n",
        "\n",
        "# Calcular o número total de fases jogadas\n",
        "total_fases = num_fases_facil + num_fases_media + num_fases_dificil + num_fases_lendaria\n",
        "\n",
        "# Calcular a média\n",
        "media_pontos = total_pontos / total_fases\n",
        "\n",
        "# Exibir o resultado com uma f-string\n",
        "print(f\"A média de pontos por fase é: {media_pontos:.2f}\")\n"
      ],
      "metadata": {
        "colab": {
          "base_uri": "https://localhost:8080/"
        },
        "id": "hJhK6hjp3pzn",
        "outputId": "29b72cef-57c3-4813-8c3f-791ed37974ec"
      },
      "execution_count": 10,
      "outputs": [
        {
          "output_type": "stream",
          "name": "stdout",
          "text": [
            "A média de pontos por fase é: 32.86\n"
          ]
        }
      ]
    },
    {
      "cell_type": "markdown",
      "source": [
        "## Aula 3"
      ],
      "metadata": {
        "id": "EWfb4xBZ36vK"
      }
    },
    {
      "cell_type": "code",
      "source": [
        "total_de_figurinhas = int(input(\"Digite o total de figurinhas: \"))\n",
        "numero_de_amigos = int(input(\"Digite o número de amigos: \"))\n",
        "figurinhas_amigo = total_de_figurinhas // (numero_de_amigos + 2)\n",
        "total_de_figurinhas = int(input(\"Digite o total de figurinhas: \"))\n",
        "numero_de_amigos = int(input(\"Digite o número de amigos: \"))\n",
        "figurinhas_joao = 2 * figurinhas_amigo\n",
        "\n",
        "print(f\"João recebeu {figurinhas_joao} figurinhas\")"
      ],
      "metadata": {
        "colab": {
          "base_uri": "https://localhost:8080/"
        },
        "id": "7XxtSV5Y3_bV",
        "outputId": "ca5b6fcb-3bd3-4281-d3be-404b71d3d540"
      },
      "execution_count": 11,
      "outputs": [
        {
          "output_type": "stream",
          "name": "stdout",
          "text": [
            "Digite o total de figurinhas: 100\n",
            "Digite o número de amigos: 5\n",
            "Digite o total de figurinhas: 100\n",
            "Digite o número de amigos: 5\n",
            "João recebeu 28 figurinhas\n"
          ]
        }
      ]
    },
    {
      "cell_type": "markdown",
      "source": [
        "## Desafio 3"
      ],
      "metadata": {
        "id": "Cbg_h-Zd4WXE"
      }
    },
    {
      "cell_type": "code",
      "source": [
        "# Leitura dos dados\n",
        "total_moedas = int(input(\"Digite o número total de moedas: \"))\n",
        "total_piratas = int(input(\"Digite o número total de piratas: \"))\n",
        "total_navios = int(input(\"Digite o número de navios: \"))\n",
        "\n",
        "# Calcular o número total de capitães\n",
        "total_capitaes = total_navios\n",
        "\n",
        "# Calcular o número de piratas comuns (excluindo os capitães)\n",
        "piratas_comuns = total_piratas - total_capitaes\n",
        "\n",
        "# Calcular as moedas por pirata comum\n",
        "moedas_por_pirata = total_moedas // total_piratas\n",
        "\n",
        "# Calcular as moedas por capitão (o dobro das de um pirata comum)\n",
        "moedas_por_capitao = moedas_por_pirata * 2\n",
        "\n",
        "# Exibir o resultado\n",
        "print(f\"Cada capitão receberá {moedas_por_capitao} moedas.\")\n"
      ],
      "metadata": {
        "colab": {
          "base_uri": "https://localhost:8080/"
        },
        "id": "etiDJnRq4aO8",
        "outputId": "7a33317f-a2dc-44c5-e59c-8efdfb043de5"
      },
      "execution_count": 12,
      "outputs": [
        {
          "output_type": "stream",
          "name": "stdout",
          "text": [
            "Digite o número total de moedas: 1000\n",
            "Digite o número total de piratas: 20\n",
            "Digite o número de navios: 4\n",
            "Cada capitão receberá 100 moedas.\n"
          ]
        }
      ]
    },
    {
      "cell_type": "markdown",
      "source": [
        "## Aula 4"
      ],
      "metadata": {
        "id": "BAkmwW0R4poD"
      }
    },
    {
      "cell_type": "code",
      "source": [
        "numero_de_alunos = int(input(\"Digite a quantidade de alunos: \"))\n",
        "numero_de_monitores = int(input(\"Digite a quantidade de monitores: \"))\n",
        "\n",
        "resposta_positiva = \"pode ir\"\n",
        "resposta_negativa = \"não pode ir\"\n",
        "\n",
        "if numero_de_alunos + numero_de_monitores <= 50:\n",
        "    print(resposta_positiva)\n",
        "else:\n",
        "    print(resposta_negativa)\n"
      ],
      "metadata": {
        "colab": {
          "base_uri": "https://localhost:8080/"
        },
        "id": "0N-wHfMk4yaH",
        "outputId": "74559543-707b-440d-fbef-41bd31c3d183"
      },
      "execution_count": 18,
      "outputs": [
        {
          "output_type": "stream",
          "name": "stdout",
          "text": [
            "Digite a quantidade de alunos: 25\n",
            "Digite a quantidade de monitores: 25\n",
            "pode ir\n"
          ]
        }
      ]
    },
    {
      "cell_type": "markdown",
      "source": [
        "## Desafio 4"
      ],
      "metadata": {
        "id": "51DHuVuS51kz"
      }
    },
    {
      "cell_type": "code",
      "source": [
        "# Leitura dos dados\n",
        "alunos = int(input(\"Digite a quantidade de alunos: \"))\n",
        "monitores = int(input(\"Digite a quantidade de monitores: \"))\n",
        "convidados = int(input(\"Digite a quantidade de convidados: \"))\n",
        "\n",
        "# Soma total de pessoas\n",
        "total_pessoas = alunos + monitores + convidados\n",
        "\n",
        "# Verificações\n",
        "if total_pessoas > 100:\n",
        "    print(\"Não é possível acomodar todas as pessoas. Ultrapassa os 100 ingressos disponíveis.\")\n",
        "elif convidados > 20:\n",
        "    print(\"Número de convidados excede o limite permitido de 20.\")\n",
        "else:\n",
        "    print(\"Todos podem participar do evento. Regras atendidas!\")\n"
      ],
      "metadata": {
        "colab": {
          "base_uri": "https://localhost:8080/"
        },
        "id": "9Y7lmnQ056bL",
        "outputId": "1a284571-65ad-49bc-cca4-08b0e741436a"
      },
      "execution_count": 19,
      "outputs": [
        {
          "output_type": "stream",
          "name": "stdout",
          "text": [
            "Digite a quantidade de alunos: 70\n",
            "Digite a quantidade de monitores: 10\n",
            "Digite a quantidade de convidados: 15\n",
            "Todos podem participar do evento. Regras atendidas!\n"
          ]
        }
      ]
    },
    {
      "cell_type": "markdown",
      "source": [
        "## Aula 5"
      ],
      "metadata": {
        "id": "nPIGaDpf6TGW"
      }
    },
    {
      "cell_type": "code",
      "source": [
        "P = int(input(\"Digite a posição da porta P (0 ou 1): \"))\n",
        "R = int(input(\"Digite a posição da porta R (0 ou 1): \"))\n",
        "\n",
        "if P == 0:\n",
        "    print(\"C\")\n",
        "elif R == 1:\n",
        "    print(\"A\")\n",
        "else:\n",
        "    print(\"B\")\n"
      ],
      "metadata": {
        "colab": {
          "base_uri": "https://localhost:8080/"
        },
        "id": "dq35MKQP6V4b",
        "outputId": "07c83724-0bf2-4e1c-e022-c63ab808431e"
      },
      "execution_count": 23,
      "outputs": [
        {
          "output_type": "stream",
          "name": "stdout",
          "text": [
            "Digite a posição da porta P (0 ou 1): 1\n",
            "Digite a posição da porta R (0 ou 1): 0\n",
            "B\n"
          ]
        }
      ]
    },
    {
      "cell_type": "markdown",
      "source": [
        "## Desafio 5"
      ],
      "metadata": {
        "id": "vi9_lSuJ7DzX"
      }
    },
    {
      "cell_type": "code",
      "source": [
        "P = int(input(\"Posição da porta P (0 ou 1): \"))\n",
        "R = int(input(\"Posição da porta R (0 ou 1): \"))\n",
        "\n",
        "if P == 0:\n",
        "    print(\"C\")\n",
        "elif R == 1:\n",
        "    print(\"A\")\n",
        "else:\n",
        "    print(\"B\")\n"
      ],
      "metadata": {
        "colab": {
          "base_uri": "https://localhost:8080/"
        },
        "id": "8qaY8inJ7Lg-",
        "outputId": "e1a765d0-d074-4621-c758-bdfe213c4ed0"
      },
      "execution_count": 24,
      "outputs": [
        {
          "output_type": "stream",
          "name": "stdout",
          "text": [
            "Posição da porta P (0 ou 1): 1\n",
            "Posição da porta R (0 ou 1): 0\n",
            "B\n"
          ]
        }
      ]
    },
    {
      "cell_type": "markdown",
      "source": [
        "## Aula 6"
      ],
      "metadata": {
        "id": "wnonFDtV7ci_"
      }
    },
    {
      "cell_type": "code",
      "source": [
        "def calcula_idade_maior(idade_monica, idade_filho1, idade_filho2):\n",
        "    idade_filho3 = idade_monica - idade_filho1 - idade_filho2\n",
        "    idade_maxima = max(idade_filho1, idade_filho2, idade_filho3)\n",
        "    return idade_filho3, idade_maxima\n",
        "\n",
        "# Exemplo de uso\n",
        "resultado = calcula_idade_maior(68, 12, 30)\n",
        "print(resultado)\n"
      ],
      "metadata": {
        "colab": {
          "base_uri": "https://localhost:8080/"
        },
        "id": "bLYeCh8h7e5N",
        "outputId": "fa0874ff-3006-4891-e924-5f18fdba01ef"
      },
      "execution_count": 26,
      "outputs": [
        {
          "output_type": "stream",
          "name": "stdout",
          "text": [
            "(26, 30)\n"
          ]
        }
      ]
    },
    {
      "cell_type": "markdown",
      "source": [
        "## Desafio 6"
      ],
      "metadata": {
        "id": "0GHJSteI86aj"
      }
    },
    {
      "cell_type": "code",
      "source": [
        "def calcula_lider(tempo_total, tempo1, tempo2):\n",
        "    tempo3 = tempo_total - tempo1 - tempo2\n",
        "    mais_experiente = max(tempo1, tempo2, tempo3)\n",
        "    return tempo3, mais_experiente\n",
        "\n",
        "# Entrada dos nomes dos candidatos\n",
        "nome1 = input(\"Nome do primeiro candidato: \")\n",
        "nome2 = input(\"Nome do segundo candidato: \")\n",
        "nome3 = input(\"Nome do terceiro candidato: \")\n",
        "\n",
        "# Entrada dos tempos de experiência\n",
        "tempo1 = int(input(\"Tempo de experiência do primeiro candidato: \"))\n",
        "tempo2 = int(input(\"Tempo de experiência do segundo candidato: \"))\n",
        "tempo_total = int(input(\"Tempo total de experiência dos três: \"))\n",
        "\n",
        "# Cálculo da experiência do terceiro candidato e do mais experiente\n",
        "tempo3, mais_experiente = calcula_lider(tempo_total, tempo1, tempo2)\n",
        "\n",
        "# Exibição dos resultados\n",
        "print(\"Tempo de experiência do terceiro candidato:\", tempo3)\n",
        "print(\"O mais experiente tem:\", mais_experiente, \"anos de experiência.\")\n",
        "18"
      ],
      "metadata": {
        "colab": {
          "base_uri": "https://localhost:8080/"
        },
        "id": "c5Mvjhtn9HoI",
        "outputId": "0cab581e-1ca0-415c-b18b-1626ae4be170"
      },
      "execution_count": 28,
      "outputs": [
        {
          "output_type": "stream",
          "name": "stdout",
          "text": [
            "Nome do primeiro candidato: Leticia \n",
            "Nome do segundo candidato: Alice\n",
            "Nome do terceiro candidato: Bruna\n",
            "Tempo de experiência do primeiro candidato: 7\n",
            "Tempo de experiência do segundo candidato: 18\n",
            "Tempo total de experiência dos três: 6\n",
            "Tempo de experiência do terceiro candidato: -19\n",
            "O mais experiente tem: 18 anos de experiência.\n"
          ]
        },
        {
          "output_type": "execute_result",
          "data": {
            "text/plain": [
              "18"
            ]
          },
          "metadata": {},
          "execution_count": 28
        }
      ]
    },
    {
      "cell_type": "markdown",
      "source": [
        "## Aula 7"
      ],
      "metadata": {
        "id": "RYXyzE5p9zzq"
      }
    },
    {
      "cell_type": "code",
      "source": [
        "def calcula_tabuada(numero):\n",
        "    for i in range(1, 11):\n",
        "        print(f'{numero} x {i} = {numero * i}')\n",
        "\n",
        "# Exemplo de uso\n",
        "numero = int(input(\"Digite um número: \"))\n",
        "calcula_tabuada(numero)\n"
      ],
      "metadata": {
        "colab": {
          "base_uri": "https://localhost:8080/"
        },
        "id": "XY2hcNd093Re",
        "outputId": "58b4d52b-1bf2-4f77-a191-793b3ad2a706"
      },
      "execution_count": 30,
      "outputs": [
        {
          "output_type": "stream",
          "name": "stdout",
          "text": [
            "Digite um número: 2\n",
            "2 x 1 = 2\n",
            "2 x 2 = 4\n",
            "2 x 3 = 6\n",
            "2 x 4 = 8\n",
            "2 x 5 = 10\n",
            "2 x 6 = 12\n",
            "2 x 7 = 14\n",
            "2 x 8 = 16\n",
            "2 x 9 = 18\n",
            "2 x 10 = 20\n"
          ]
        }
      ]
    },
    {
      "cell_type": "markdown",
      "source": [
        "## Desafio 7"
      ],
      "metadata": {
        "id": "eVe-Me7P-pvd"
      }
    },
    {
      "cell_type": "code",
      "source": [
        "def tabela_logaritmica(base):\n",
        "    for expoente in range(1, 11):\n",
        "        resultado = base ** expoente\n",
        "        print(f\"{base}^{expoente} = {resultado}\")\n",
        "\n",
        "# Testando com as bases 2, 3 e 10\n",
        "print(\"Tabela para base 2:\")\n",
        "tabela_logaritmica(2)\n",
        "\n",
        "print(\"\\nTabela para base 3:\")\n",
        "tabela_logaritmica(3)\n",
        "\n",
        "print(\"\\nTabela para base 10:\")\n",
        "tabela_logaritmica(10)\n"
      ],
      "metadata": {
        "colab": {
          "base_uri": "https://localhost:8080/"
        },
        "id": "P0gQSgrI-rjD",
        "outputId": "7b4cc3c7-ab50-4452-cee1-64730b177c14"
      },
      "execution_count": 31,
      "outputs": [
        {
          "output_type": "stream",
          "name": "stdout",
          "text": [
            "Tabela para base 2:\n",
            "2^1 = 2\n",
            "2^2 = 4\n",
            "2^3 = 8\n",
            "2^4 = 16\n",
            "2^5 = 32\n",
            "2^6 = 64\n",
            "2^7 = 128\n",
            "2^8 = 256\n",
            "2^9 = 512\n",
            "2^10 = 1024\n",
            "\n",
            "Tabela para base 3:\n",
            "3^1 = 3\n",
            "3^2 = 9\n",
            "3^3 = 27\n",
            "3^4 = 81\n",
            "3^5 = 243\n",
            "3^6 = 729\n",
            "3^7 = 2187\n",
            "3^8 = 6561\n",
            "3^9 = 19683\n",
            "3^10 = 59049\n",
            "\n",
            "Tabela para base 10:\n",
            "10^1 = 10\n",
            "10^2 = 100\n",
            "10^3 = 1000\n",
            "10^4 = 10000\n",
            "10^5 = 100000\n",
            "10^6 = 1000000\n",
            "10^7 = 10000000\n",
            "10^8 = 100000000\n",
            "10^9 = 1000000000\n",
            "10^10 = 10000000000\n"
          ]
        }
      ]
    },
    {
      "cell_type": "markdown",
      "source": [
        "## Aula 8"
      ],
      "metadata": {
        "id": "Ca_K6VF7-2ZY"
      }
    },
    {
      "cell_type": "code",
      "source": [
        "idade_monica = 40\n",
        "idade_filho1 = 12\n",
        "idade_filho2 = 15\n",
        "idade_filho3 = idade_monica - (idade_filho1 + idade_filho2)\n",
        "idades = [idade_filho1, idade_filho2, idade_filho3]\n",
        "mais_velho = max(idades)\n",
        "print(f\"O filho mais velho tem {mais_velho} anos.\")\n"
      ],
      "metadata": {
        "colab": {
          "base_uri": "https://localhost:8080/"
        },
        "id": "BAg4nptL-4Q5",
        "outputId": "b67bb591-30ca-4362-eaaa-b70650a4759f"
      },
      "execution_count": 33,
      "outputs": [
        {
          "output_type": "stream",
          "name": "stdout",
          "text": [
            "O filho mais velho tem 15 anos.\n"
          ]
        }
      ]
    },
    {
      "cell_type": "markdown",
      "source": [
        "## Desafio 8"
      ],
      "metadata": {
        "id": "akj4_OV4_owH"
      }
    },
    {
      "cell_type": "code",
      "source": [
        "# Soma total das idades\n",
        "total = 36\n",
        "\n",
        "# Primeira hipótese: y é o dobro de x\n",
        "for x in range(1, total):\n",
        "    y = 2 * x\n",
        "    z = x  # terceiro igual ao primeiro\n",
        "    if x + y + z == total:\n",
        "        print(f\"Hipótese 1: x = {x}, y = {y}, z = {z}\")\n",
        "\n",
        "# Segunda hipótese: x é o dobro de y\n",
        "for y in range(1, total):\n",
        "    x = 2 * y\n",
        "    z = x  # terceiro igual ao primeiro\n",
        "    if x + y + z == total:\n",
        "        print(f\"Hipótese 2: x = {x}, y = {y}, z = {z}\")\n"
      ],
      "metadata": {
        "colab": {
          "base_uri": "https://localhost:8080/"
        },
        "id": "No9CMAl9_qjN",
        "outputId": "b44cd063-3c80-49bd-be64-ea8fb328a4b1"
      },
      "execution_count": 34,
      "outputs": [
        {
          "output_type": "stream",
          "name": "stdout",
          "text": [
            "Hipótese 1: x = 9, y = 18, z = 9\n"
          ]
        }
      ]
    },
    {
      "cell_type": "markdown",
      "source": [
        "## Aula 9"
      ],
      "metadata": {
        "id": "rWiN2vcb_2Wc"
      }
    },
    {
      "cell_type": "code",
      "source": [
        "def controle_estoque():\n",
        "    # Estoque inicial\n",
        "    estoque = {\n",
        "        \"Maçã\": 10,\n",
        "        \"Banana\": 5,\n",
        "        \"Laranja\": 8\n",
        "    }\n",
        "\n",
        "    print(\"Estoque inicial:\")\n",
        "    for produto, quantidade in estoque.items():\n",
        "        print(f\"{produto}: {quantidade}\")\n",
        "\n",
        "    while True:\n",
        "        operacao = input(\"\\nDigite operação (entrada/saida) ou 'fim' para encerrar: \").strip().lower()\n",
        "\n",
        "        if operacao == \"fim\":\n",
        "            print(\"Programa encerrado.\")\n",
        "            break\n",
        "\n",
        "        if operacao not in [\"entrada\", \"saida\"]:\n",
        "            print(\"Operação inválida! Tente novamente.\")\n",
        "            continue\n",
        "\n",
        "        produto = input(\"Produto: \").strip().capitalize()\n",
        "\n",
        "        if produto not in estoque:\n",
        "            print(\"Produto não encontrado no estoque.\")\n",
        "            continue\n",
        "\n",
        "        try:\n",
        "            quantidade = int(input(\"Quantidade: \"))\n",
        "        except ValueError:\n",
        "            print(\"Quantidade inválida! Digite um número inteiro.\")\n",
        "            continue\n",
        "\n",
        "        if operacao == \"entrada\":\n",
        "            estoque[produto] += quantidade\n",
        "            print(\"\\nEstoque atualizado:\")\n",
        "            for p, q in estoque.items():\n",
        "                print(f\"{p}: {q}\")\n",
        "\n",
        "        elif operacao == \"saida\":\n",
        "            if estoque[produto] >= quantidade:\n",
        "                estoque[produto] -= quantidade\n",
        "                print(\"\\nEstoque atualizado:\")\n",
        "                for p, q in estoque.items():\n",
        "                    print(f\"{p}: {q}\")\n",
        "            else:\n",
        "                print(\"Erro: quantidade insuficiente no estoque.\")\n",
        "\n",
        "# Executa o programa\n",
        "controle_estoque()"
      ],
      "metadata": {
        "colab": {
          "base_uri": "https://localhost:8080/"
        },
        "id": "ljvJ3DYq_4UL",
        "outputId": "1e47b3e9-4b82-495b-e3f0-30168be09986"
      },
      "execution_count": 36,
      "outputs": [
        {
          "output_type": "stream",
          "name": "stdout",
          "text": [
            "Estoque inicial:\n",
            "Maçã: 10\n",
            "Banana: 5\n",
            "Laranja: 8\n",
            "\n",
            "Digite operação (entrada/saida) ou 'fim' para encerrar: fim\n",
            "Programa encerrado.\n"
          ]
        }
      ]
    },
    {
      "cell_type": "markdown",
      "source": [
        "## Desafio 9"
      ],
      "metadata": {
        "id": "PFqfHp4RCs77"
      }
    },
    {
      "cell_type": "code",
      "source": [
        "# Número secreto definido pelo programador\n",
        "numero_secreto = 42\n",
        "\n",
        "print(\"Tente adivinhar o número secreto! Você tem 5 tentativas.\")\n",
        "\n",
        "# Laço para 5 tentativas\n",
        "for tentativa in range(1, 6):\n",
        "    palpite = int(input(f\"Tentativa {tentativa}: \"))\n",
        "\n",
        "    if palpite == numero_secreto:\n",
        "        print(\"Parabéns! Você acertou!\")\n",
        "        break  # Sai do laço porque acertou\n",
        "    elif palpite > numero_secreto:\n",
        "        print(\"Seu palpite foi maior que o número secreto.\")\n",
        "    else:\n",
        "        print(\"Seu palpite foi menor que o número secreto.\")\n",
        "else:\n",
        "    # Esse else é do for: executa se o break nunca foi chamado (não acertou)\n",
        "    print(f\"Você perdeu! O número secreto era {numero_secreto}.\")\n"
      ],
      "metadata": {
        "colab": {
          "base_uri": "https://localhost:8080/"
        },
        "id": "OPzHtQG9A0u-",
        "outputId": "eeeaa7d8-16e8-4edf-a17e-c520ac2e74c2"
      },
      "execution_count": 37,
      "outputs": [
        {
          "output_type": "stream",
          "name": "stdout",
          "text": [
            "Tente adivinhar o número secreto! Você tem 5 tentativas.\n",
            "Tentativa 1: 42\n",
            "Parabéns! Você acertou!\n"
          ]
        }
      ]
    }
  ],
  "metadata": {
    "colab": {
      "name": "Conheça o Colab",
      "provenance": [],
      "include_colab_link": true
    },
    "kernelspec": {
      "display_name": "Python 3",
      "name": "python3"
    }
  },
  "nbformat": 4,
  "nbformat_minor": 0
}